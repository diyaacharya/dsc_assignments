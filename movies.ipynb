{
 "cells": [
  {
   "cell_type": "code",
   "execution_count": 1,
   "metadata": {},
   "outputs": [
    {
     "name": "stdin",
     "output_type": "stream",
     "text": [
      " Space Force\n"
     ]
    },
    {
     "name": "stdout",
     "output_type": "stream",
     "text": [
      "this is a comedy\n"
     ]
    }
   ],
   "source": [
    "thriller=[\"Dark\",\"Mindhunter\",\"Parasite\",\"Inception\",\"Insidious\",\"Kahaani\",\"Prison Break\",\"Money Heist\",\"War\",\"Jack Ryan\"]\n",
    "comedy=[\"Friends\",\"3 Idiots\",\"Golmaal\",\"Brooklyn 99\",\"How I Met Your Mother\",\"Rick And Morty\",\"The Big Bang Theory\",\"The Office\",\"Space Force\"]\n",
    "watch=input()\n",
    "watch=watch.lower()\n",
    "thriller=map(str.lower,thriller)\n",
    "comedy=map(str.lower,comedy)\n",
    "if watch  in thriller:\n",
    "    print(\"this is thriller\")\n",
    "elif watch  in comedy :\n",
    "    print(\"this is a comedy\")\n",
    "else:\n",
    "    print(\"Not my type\")\n"
   ]
  },
  {
   "cell_type": "code",
   "execution_count": null,
   "metadata": {},
   "outputs": [],
   "source": []
  },
  {
   "cell_type": "code",
   "execution_count": null,
   "metadata": {},
   "outputs": [],
   "source": []
  }
 ],
 "metadata": {
  "kernelspec": {
   "display_name": "Python 3",
   "language": "python",
   "name": "python3"
  },
  "language_info": {
   "codemirror_mode": {
    "name": "ipython",
    "version": 3
   },
   "file_extension": ".py",
   "mimetype": "text/x-python",
   "name": "python",
   "nbconvert_exporter": "python",
   "pygments_lexer": "ipython3",
   "version": "3.8.3"
  }
 },
 "nbformat": 4,
 "nbformat_minor": 4
}
