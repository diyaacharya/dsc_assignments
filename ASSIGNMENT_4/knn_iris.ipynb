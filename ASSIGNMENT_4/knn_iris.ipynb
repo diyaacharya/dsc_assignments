from sklearn.neighbors import KNeighborsClassifier

from sklearn.datasets import load_iris

from sklearn.model_selection import train_test_split

from sklearn import metrics

%matplotlib inline
import matplotlib.pyplot as plt

#loading iris data from sklearn library and storing it in 'iris'which is of datatype 'Bunch'  .
iris = load_iris()
#print(type(iris))

#printing the feartures
print (iris.data)

# features present in iris dataset
print (iris.feature_names)

#observation in the dataset in numerical form.
print (iris.target)


# name of the values present in the finite set for classification 
print (iris.target_names)



X = iris.data

y = iris.target


plt.scatter(iris.data[:,1],iris.data[:,2],c=iris.target, cmap=plt.cm.Paired)
plt.xlabel(iris.feature_names[1])
plt.ylabel(iris.feature_names[2])
plt.show()

plt.scatter(iris.data[:,0],iris.data[:,3],c=iris.target, cmap=plt.cm.Paired)
plt.xlabel(iris.feature_names[0])
plt.ylabel(iris.feature_names[3])
plt.show()


#about to perform train/test split and find testing accuracy
X_train, X_test, y_train, y_test = train_test_split(X, y, test_size=0.35, random_state = 4)
print (X_train.shape)
print (X_test.shape)

# 2. Instantiating the 'estimator'
knn = KNeighborsClassifier(n_neighbors = 5)

# 3. fit the model with data, aka 'model training'
knn.fit(X_train, y_train)

# 4. Predict the response for observations being passed, here 'X-test'
y_pred = knn.predict(X_test)

# getting the testing accuracy of KNN (K=5)
print (metrics.accuracy_score(y_test, y_pred))

#for the case k = 5 we got , accuracy = 98.148%, trying k values from 1 to 25, we get ..
k_range = range(1, 30)
scores = []
for k in k_range:
    knn = KNeighborsClassifier(n_neighbors = k)
    knn.fit(X_train, y_train)
    y_pred = knn.predict(X_test)
    scores.append(metrics.accuracy_score(y_test, y_pred))

plt.plot(k_range, scores)
plt.xlabel('Values of K')
plt.ylabel('Accuracy')

knn = KNeighborsClassifier(n_neighbors=11)
knn.fit(X, y)



#0 = setosa, 1=versicolor, 2=virginica
classes = {0:'setosa',1:'versicolor',2:'virginica'}


x_new = [[4,4,5,2],
         [5,4,5,8]]
y_predict = knn.predict(x_new)

print(classes[y_predict[0]])
print(classes[y_predict[1]])

